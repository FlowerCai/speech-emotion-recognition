{
 "cells": [
  {
   "cell_type": "markdown",
   "metadata": {},
   "source": [
    "1. 子系统标签生成  \n",
    "2. 执行命令生成  \n",
    "model修改思路与5.1.1一致。"
   ]
  },
  {
   "cell_type": "code",
   "execution_count": 1,
   "metadata": {},
   "outputs": [],
   "source": [
    "import torch"
   ]
  },
  {
   "cell_type": "code",
   "execution_count": 2,
   "metadata": {},
   "outputs": [],
   "source": [
    "dummy_labels = torch.randint(low=0,high=4, size=[40])"
   ]
  },
  {
   "cell_type": "code",
   "execution_count": 3,
   "metadata": {},
   "outputs": [
    {
     "data": {
      "text/plain": [
       "tensor([3, 1, 1, 3, 3, 0, 0, 1, 2, 1, 2, 0, 0, 1, 0, 3, 1, 0, 1, 3, 2, 3, 3, 0,\n",
       "        1, 2, 3, 0, 0, 3, 3, 1, 2, 1, 0, 3, 0, 2, 3, 1])"
      ]
     },
     "execution_count": 3,
     "metadata": {},
     "output_type": "execute_result"
    }
   ],
   "source": [
    "dummy_labels"
   ]
  },
  {
   "cell_type": "code",
   "execution_count": 4,
   "metadata": {},
   "outputs": [],
   "source": [
    "aa =[0,1]"
   ]
  },
  {
   "cell_type": "code",
   "execution_count": 5,
   "metadata": {},
   "outputs": [],
   "source": [
    "sub_label1 = torch.zeros(40)"
   ]
  },
  {
   "cell_type": "code",
   "execution_count": 6,
   "metadata": {},
   "outputs": [],
   "source": [
    "for a in aa:\n",
    "    sub_label1= torch.logical_or(sub_label1, dummy_labels==a)\n",
    "sub_label1= sub_label1.long()"
   ]
  },
  {
   "cell_type": "code",
   "execution_count": 7,
   "metadata": {},
   "outputs": [
    {
     "data": {
      "text/plain": [
       "tensor([0, 1, 1, 0, 0, 1, 1, 1, 0, 1, 0, 1, 1, 1, 1, 0, 1, 1, 1, 0, 0, 0, 0, 1,\n",
       "        1, 0, 0, 1, 1, 0, 0, 1, 0, 1, 1, 0, 1, 0, 0, 1])"
      ]
     },
     "execution_count": 7,
     "metadata": {},
     "output_type": "execute_result"
    }
   ],
   "source": [
    "sub_label1"
   ]
  },
  {
   "cell_type": "code",
   "execution_count": 8,
   "metadata": {},
   "outputs": [
    {
     "data": {
      "text/plain": [
       "'2'"
      ]
     },
     "execution_count": 8,
     "metadata": {},
     "output_type": "execute_result"
    }
   ],
   "source": [
    "'%s' % 2"
   ]
  },
  {
   "cell_type": "code",
   "execution_count": 9,
   "metadata": {},
   "outputs": [
    {
     "name": "stdout",
     "output_type": "stream",
     "text": [
      "torch.Size([2, 4])\n"
     ]
    }
   ],
   "source": [
    "a = torch.rand(2,4)\n",
    "b = []\n",
    "b.append(a)\n",
    "c = torch.cat(b, dim=1)\n",
    "print(c.shape)"
   ]
  },
  {
   "cell_type": "code",
   "execution_count": 10,
   "metadata": {},
   "outputs": [
    {
     "name": "stdout",
     "output_type": "stream",
     "text": [
      "[1] <class 'str'>\n",
      "[1] <class 'list'>\n"
     ]
    }
   ],
   "source": [
    "a= '[1]'\n",
    "print(a, type(a))\n",
    "a = eval(a)\n",
    "print(a, type(a))"
   ]
  },
  {
   "attachments": {
    "8966fbb9-9ba8-4ff0-9bb3-937ceb5a09d9.png": {
     "image/png": "[encoded data removed]"
    }
   },
   "cell_type": "markdown",
   "metadata": {},
   "source": [
    "生成运行代码  \n",
    "![image.png](attachment:8966fbb9-9ba8-4ff0-9bb3-937ceb5a09d9.png)  \n",
    "分类0和1可以互换\n"
   ]
  },
  {
   "cell_type": "code",
   "execution_count": 11,
   "metadata": {},
   "outputs": [],
   "source": [
    "clfs = ['[0,1]', '[3]', '[1,3]', '[1]']"
   ]
  },
  {
   "cell_type": "code",
   "execution_count": 12,
   "metadata": {},
   "outputs": [
    {
     "data": {
      "text/plain": [
       "'0b1111'"
      ]
     },
     "execution_count": 12,
     "metadata": {},
     "output_type": "execute_result"
    }
   ],
   "source": [
    "bin(15)"
   ]
  },
  {
   "cell_type": "code",
   "execution_count": 13,
   "metadata": {
    "scrolled": true
   },
   "outputs": [
    {
     "name": "stdout",
     "output_type": "stream",
     "text": [
      "0b0\n",
      "0b1\n",
      "0b10\n",
      "0b11\n",
      "0b100\n",
      "0b101\n",
      "0b110\n",
      "0b111\n",
      "0b1000\n",
      "0b1001\n",
      "0b1010\n",
      "0b1011\n",
      "0b1100\n",
      "0b1101\n",
      "0b1110\n",
      "0b1111\n"
     ]
    }
   ],
   "source": [
    "for i in range(16):\n",
    "    print(bin(i))"
   ]
  },
  {
   "cell_type": "code",
   "execution_count": 14,
   "metadata": {},
   "outputs": [],
   "source": [
    "from itertools import chain, combinations\n",
    "\n",
    "def powerset(iterable):\n",
    "    \"\"\"\n",
    "    powerset([1,2,3]) --> () (1,) (2,) (3,) (1,2) (1,3) (2,3) (1,2,3)\n",
    "    \"\"\"\n",
    "    xs = list(iterable)\n",
    "    # note we return an iterator rather than a list\n",
    "    return chain.from_iterable(combinations(xs,n) for n in range(len(xs)+1))"
   ]
  },
  {
   "cell_type": "code",
   "execution_count": 15,
   "metadata": {},
   "outputs": [
    {
     "name": "stdout",
     "output_type": "stream",
     "text": [
      "()\n",
      "('[0,1]',)\n",
      "('[3]',)\n",
      "('[1,3]',)\n",
      "('[1]',)\n",
      "('[0,1]', '[3]')\n",
      "('[0,1]', '[1,3]')\n",
      "('[0,1]', '[1]')\n",
      "('[3]', '[1,3]')\n",
      "('[3]', '[1]')\n",
      "('[1,3]', '[1]')\n",
      "('[0,1]', '[3]', '[1,3]')\n",
      "('[0,1]', '[3]', '[1]')\n",
      "('[0,1]', '[1,3]', '[1]')\n",
      "('[3]', '[1,3]', '[1]')\n",
      "('[0,1]', '[3]', '[1,3]', '[1]')\n"
     ]
    }
   ],
   "source": [
    "for branch in powerset(clfs):\n",
    "    print(branch)"
   ]
  },
  {
   "cell_type": "code",
   "execution_count": 16,
   "metadata": {},
   "outputs": [
    {
     "name": "stdout",
     "output_type": "stream",
     "text": [
      "python main.py --branches=[]  > ../txts/chapter5_1_2/0.txt 2>&1\n",
      "python main.py --branches=[[0,1]]  > ../txts/chapter5_1_2/1.txt 2>&1\n",
      "python main.py --branches=[[3]]  > ../txts/chapter5_1_2/2.txt 2>&1\n",
      "python main.py --branches=[[1,3]]  > ../txts/chapter5_1_2/3.txt 2>&1\n",
      "python main.py --branches=[[1]]  > ../txts/chapter5_1_2/4.txt 2>&1\n",
      "python main.py --branches=[[0,1],[3]]  > ../txts/chapter5_1_2/5.txt 2>&1\n",
      "python main.py --branches=[[0,1],[1,3]]  > ../txts/chapter5_1_2/6.txt 2>&1\n",
      "python main.py --branches=[[0,1],[1]]  > ../txts/chapter5_1_2/7.txt 2>&1\n",
      "python main.py --branches=[[3],[1,3]]  > ../txts/chapter5_1_2/8.txt 2>&1\n",
      "python main.py --branches=[[3],[1]]  > ../txts/chapter5_1_2/9.txt 2>&1\n",
      "python main.py --branches=[[1,3],[1]]  > ../txts/chapter5_1_2/10.txt 2>&1\n",
      "python main.py --branches=[[0,1],[3],[1,3]]  > ../txts/chapter5_1_2/11.txt 2>&1\n",
      "python main.py --branches=[[0,1],[3],[1]]  > ../txts/chapter5_1_2/12.txt 2>&1\n",
      "python main.py --branches=[[0,1],[1,3],[1]]  > ../txts/chapter5_1_2/13.txt 2>&1\n",
      "python main.py --branches=[[3],[1,3],[1]]  > ../txts/chapter5_1_2/14.txt 2>&1\n",
      "python main.py --branches=[[0,1],[3],[1,3],[1]]  > ../txts/chapter5_1_2/15.txt 2>&1\n"
     ]
    }
   ],
   "source": [
    "s1 = 'python main.py --branches={branch}  > ../txts/{out}/{count}.txt 2>&1'\n",
    "n=0\n",
    "for branch in powerset(clfs):\n",
    "    print(s1.format(count=n, out='chapter5_1_2', branch='['+','.join(branch)+']'))\n",
    "    n += 1"
   ]
  },
  {
   "cell_type": "code",
   "execution_count": 17,
   "metadata": {},
   "outputs": [
    {
     "data": {
      "text/plain": [
       "'[0,1],[3],[1,3],[1]'"
      ]
     },
     "execution_count": 17,
     "metadata": {},
     "output_type": "execute_result"
    }
   ],
   "source": [
    "','.join(('[0,1]', '[3]', '[1,3]', '[1]'))"
   ]
  },
  {
   "cell_type": "code",
   "execution_count": null,
   "metadata": {},
   "outputs": [],
   "source": []
  }
 ],
 "metadata": {
  "kernelspec": {
   "display_name": "Python 3",
   "language": "python",
   "name": "python3"
  },
  "language_info": {
   "codemirror_mode": {
    "name": "ipython",
    "version": 3
   },
   "file_extension": ".py",
   "mimetype": "text/x-python",
   "name": "python",
   "nbconvert_exporter": "python",
   "pygments_lexer": "ipython3",
   "version": "3.8.5"
  }
 },
 "nbformat": 4,
 "nbformat_minor": 4
}
